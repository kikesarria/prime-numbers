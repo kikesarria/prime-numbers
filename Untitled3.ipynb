{
  "nbformat": 4,
  "nbformat_minor": 0,
  "metadata": {
    "colab": {
      "name": "Untitled3.ipynb",
      "provenance": [],
      "collapsed_sections": []
    },
    "kernelspec": {
      "name": "python3",
      "display_name": "Python 3"
    },
    "language_info": {
      "name": "python"
    }
  },
  "cells": [
    {
      "cell_type": "code",
      "metadata": {
        "colab": {
          "base_uri": "https://localhost:8080/"
        },
        "id": "OLjnPss9fRZ4",
        "outputId": "52da460f-8da4-45d0-9fec-daf6e1834614"
      },
      "source": [
        "\n",
        "\n",
        "\n",
        "\n",
        "def isPrime(n):\n",
        "\t\n",
        "\n",
        "\tif n <= 1 :\n",
        "\t\treturn False\n",
        "\n",
        "\n",
        "\tfor i in range(2, n):\n",
        "\t\tif n % i == 0:\n",
        "\t\t\treturn False\n",
        "\n",
        "\treturn True\n",
        "\n",
        "\n",
        "def printPrime(n):\n",
        "\tfor i in range(2, n + 1):\n",
        "\t\tif isPrime(i):\n",
        "\t\t\tprint(i, end = \" \")\n",
        "\n",
        "\n",
        "if __name__ == \"__main__\" :\n",
        "\tn = 5\n",
        "\n",
        "\tprintPrime(n)\n",
        "\n"
      ],
      "execution_count": null,
      "outputs": [
        {
          "output_type": "stream",
          "name": "stdout",
          "text": [
            "2 3 5 "
          ]
        }
      ]
    }
  ]
}